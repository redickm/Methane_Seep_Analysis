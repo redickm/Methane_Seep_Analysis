{
 "cells": [
  {
   "cell_type": "markdown",
   "metadata": {},
   "source": [
    "## Calculate correlations between two datasets"
   ]
  },
  {
   "cell_type": "markdown",
   "metadata": {},
   "source": [
    "#Adapted from code written by Allegra Aron available at: https://github.com/allegra-aron/Stromatolite_analysis/blob/main/correlations_between_two_feature_tables.ipynb"
   ]
  },
  {
   "cell_type": "markdown",
   "metadata": {},
   "source": [
    "**Input file**: a .csv file in which the relative abundances of MS features (dataset 1, ds1) and microbial families (dataset 2, ds2) are listed consecutively. Each column represents a push core sample (see Table S0 for site key). Each row represents a data point (MS feature or microbial taxon), for which the ID is given in the first column."
   ]
  },
  {
   "cell_type": "markdown",
   "metadata": {
    "tags": []
   },
   "source": [
    "**Parameters**:"
   ]
  },
  {
   "cell_type": "code",
   "execution_count": null,
   "metadata": {},
   "outputs": [],
   "source": [
    "input_file <- \"peptidemz_microbefamily_correlation_input.csv\"\n",
    "rows_ds1 <- 1:307 # which rows (not including header) contain contain peptidemz abundances (dataset 1)?\n",
    "rows_ds2 <- 308:1093 # which rows (not including header) contain microbe family abundances (dataset 2)?\n",
    "prev_filt <- 0.1 # minimum % of samples that a feature must be observed in\n",
    "norm_ds1 <- TRUE # do you want to normalize the first dataset?\n",
    "norm_ds2 <- FALSE # do you want to normalize the second dataset?\n",
    "scale_features <- TRUE # do you want to scale prior to correlation?\n",
    "padj_meth <- \"BH\" # method to adjust for multiple hypothesis tests (can change to \"BH\" to be less stringent)\n",
    "p_thresh <- 0.05 # alpha for adjusted pvalues"
   ]
  },
  {
   "cell_type": "markdown",
   "metadata": {
    "tags": []
   },
   "source": [
    "## Load libraries"
   ]
  },
  {
   "cell_type": "code",
   "execution_count": null,
   "metadata": {
    "tags": []
   },
   "outputs": [],
   "source": [
    "install.packages(\"Hmisc\")"
   ]
  },
  {
   "cell_type": "code",
   "execution_count": null,
   "metadata": {
    "tags": []
   },
   "outputs": [],
   "source": [
    "install.packages(\"corrplot\")"
   ]
  },
  {
   "cell_type": "code",
   "execution_count": null,
   "metadata": {
    "tags": []
   },
   "outputs": [],
   "source": [
    "#install.packages('d3heatmap')"
   ]
  },
  {
   "cell_type": "code",
   "execution_count": null,
   "metadata": {
    "tags": []
   },
   "outputs": [],
   "source": [
    "install.packages(\"devtools\")"
   ]
  },
  {
   "cell_type": "code",
   "execution_count": null,
   "metadata": {},
   "outputs": [],
   "source": [
    "if (!require(\"devtools\")) install.packages(\"devtools\")\n",
    "devtools::install_github(\"rstudio/d3heatmap\")"
   ]
  },
  {
   "cell_type": "code",
   "execution_count": null,
   "metadata": {},
   "outputs": [],
   "source": [
    "install.packages(\"pheatmap\")"
   ]
  },
  {
   "cell_type": "code",
   "execution_count": null,
   "metadata": {},
   "outputs": [],
   "source": [
    "install.packages(\"reshape2\")"
   ]
  },
  {
   "cell_type": "code",
   "execution_count": null,
   "metadata": {},
   "outputs": [],
   "source": [
    "library(d3heatmap)\n",
    "library(Hmisc)\n",
    "library(htmlwidgets)\n",
    "library(pheatmap)\n",
    "library(reshape2)\n",
    "library(RColorBrewer)"
   ]
  },
  {
   "cell_type": "code",
   "execution_count": null,
   "metadata": {},
   "outputs": [],
   "source": [
    "#?d3heatmap"
   ]
  },
  {
   "cell_type": "markdown",
   "metadata": {
    "tags": []
   },
   "source": [
    "## Read in data"
   ]
  },
  {
   "cell_type": "code",
   "execution_count": null,
   "metadata": {},
   "outputs": [],
   "source": [
    "data <- read.csv('peptidemz_microbefamily_correlation_input.csv')"
   ]
  },
  {
   "cell_type": "code",
   "execution_count": null,
   "metadata": {},
   "outputs": [],
   "source": [
    "Check that the row numbers provided are correct"
   ]
  },
  {
   "cell_type": "code",
   "execution_count": null,
   "metadata": {},
   "outputs": [],
   "source": [
    "if (nrow(data) == length(c(rows_ds1, rows_ds2))) {message(\"Looks good!\")} else message(\"Check row numbers again\")\n",
    "message(nrow(data))"
   ]
  },
  {
   "cell_type": "markdown",
   "metadata": {},
   "source": [
    "## Format data"
   ]
  },
  {
   "cell_type": "code",
   "execution_count": null,
   "metadata": {},
   "outputs": [],
   "source": [
    "datat <- t(data) # transpose so that samples are in rows and features are in columns\n",
    "colnames(datat)<- datat[1,] # feature names are now the first row, make this row the column names\n",
    "datat <- datat[-1,] # then remove it\n",
    "datat <- as.data.frame(datat,stringsAsFactors=F)\n",
    "datat <- as.data.frame(sapply(datat, as.numeric)) # make all values numeric\n",
    "rownames(datat) <- colnames(data)[-1] # use sample names as row names"
   ]
  },
  {
   "cell_type": "markdown",
   "metadata": {},
   "source": [
    "## Separate the two datasets for filtering/normalization"
   ]
  },
  {
   "cell_type": "code",
   "execution_count": null,
   "metadata": {},
   "outputs": [],
   "source": [
    "ds1 <- datat[,rows_ds1]\n",
    "ds2 <- datat[,rows_ds2]"
   ]
  },
  {
   "cell_type": "markdown",
   "metadata": {},
   "source": [
    "## Prevalence filter"
   ]
  },
  {
   "cell_type": "markdown",
   "metadata": {},
   "source": [
    "Since there are so many features, we can reduce the number based on how many samples have the feature. For example, if the cutoff is 10%, we only keep features observed in at least 10% of samples"
   ]
  },
  {
   "cell_type": "code",
   "execution_count": null,
   "metadata": {},
   "outputs": [],
   "source": [
    "ds1_filt <- ds1[,apply(ds1, 2, function(x) {sum(x > 0) > prev_filt*nrow(ds1)})]\n",
    "ds2_filt <- ds2[,apply(ds2, 2, function(x) {sum(x > 0) > prev_filt*nrow(ds2)})]"
   ]
  },
  {
   "cell_type": "markdown",
   "metadata": {},
   "source": [
    "## Normalize data by total sum scaling"
   ]
  },
  {
   "cell_type": "markdown",
   "metadata": {},
   "source": [
    "In the original code, they added 1 to every feature but I'm not sure why?"
   ]
  },
  {
   "cell_type": "code",
   "execution_count": null,
   "metadata": {},
   "outputs": [],
   "source": [
    "if (norm_ds1) {\n",
    "  ds1_norm <- t(apply(ds1_filt, 1, function(x) {x/sum(x)})) # for each sample (row) divide each feature by the sum of all features\n",
    "} else ds1_norm <- ds1_filt\n",
    "\n",
    "if (norm_ds2) {\n",
    "  ds2_norm <- t(apply(ds2_filt, 1, function(x) {x/sum(x)})) \n",
    "} else ds2_norm <- ds2_filt"
   ]
  },
  {
   "cell_type": "markdown",
   "metadata": {},
   "source": [
    "## Scale data"
   ]
  },
  {
   "cell_type": "code",
   "execution_count": null,
   "metadata": {},
   "outputs": [],
   "source": [
    "if (scale_features) {\n",
    "  ds1_norm <- scale(ds1_norm)\n",
    "  ds2_norm <- scale(ds2_norm)\n",
    "}"
   ]
  },
  {
   "cell_type": "markdown",
   "metadata": {},
   "source": [
    "## Calculate correlations between ds1 (x) and ds2 (y)"
   ]
  },
  {
   "cell_type": "code",
   "execution_count": null,
   "metadata": {},
   "outputs": [],
   "source": [
    "cor_mat <- Hmisc::rcorr(x = as(ds1_norm, \"matrix\"), y = as(ds2_norm, \"matrix\"), type = \"spearman\") # spearman recommended for microbiome data\n",
    "\n",
    "# get correlations\n",
    "cor_r <- cor_mat$r[1:ncol(ds1_norm), -c(1:ncol(ds1_norm))] # removing ds1~ds1 and ds2~ds2 correlations, so we only keep ds1~ds2 correlations\n",
    "# get pvalues\n",
    "cor_p <- cor_mat$P[1:ncol(ds1_norm), -c(1:ncol(ds1_norm))]"
   ]
  },
  {
   "cell_type": "code",
   "execution_count": null,
   "metadata": {},
   "outputs": [],
   "source": [
    "head(cor_mat)\n",
    "head(cor_r)\n",
    "head(cor_p)"
   ]
  },
  {
   "cell_type": "markdown",
   "metadata": {},
   "source": [
    "## Heatmap"
   ]
  },
  {
   "cell_type": "code",
   "execution_count": null,
   "metadata": {
    "tags": []
   },
   "outputs": [],
   "source": [
    "if (!requireNamespace(\"BiocManager\", quietly = TRUE))\n",
    "    install.packages(\"BiocManager\")\n",
    " \n",
    "# install and load package\n",
    "\n",
    "BiocManager::install(\"DESeq2\")\n",
    "library(\"DESeq2\")"
   ]
  },
  {
   "cell_type": "code",
   "execution_count": null,
   "metadata": {
    "tags": []
   },
   "outputs": [],
   "source": [
    "pheatmap(t(cor_r),  clustering_method=\"ward.D\", clustering_distance_cols=\"canberra\",\n",
    "         show_colnames = TRUE,show_rownames = TRUE, cluster_rows = TRUE, cluster_cols = TRUE, fontsize = 1, \n",
    "         filename = \"corr_coef_all_peptidemz_family_BH_.pdf\")"
   ]
  },
  {
   "cell_type": "markdown",
   "metadata": {},
   "source": [
    "## Interactive heatmap"
   ]
  },
  {
   "cell_type": "markdown",
   "metadata": {},
   "source": [
    "(this file was too big to open on my laptop!)"
   ]
  },
  {
   "cell_type": "code",
   "execution_count": null,
   "metadata": {
    "tags": []
   },
   "outputs": [],
   "source": [
    "map <- d3heatmap(t(cor_r), distfun=function(x) dist(x, method=\"canberra\"), \n",
    "                 hclustfun=function(x) hclust(x, method=\"ward.D\"),\n",
    "                 col = colorRampPalette(rev(brewer.pal(n = 7, name = \"RdBu\")))(100))\n",
    "saveWidget(map, \"corr_coef_all_peptidemz_family_BH_noyellow.html\")"
   ]
  },
  {
   "cell_type": "markdown",
   "metadata": {},
   "source": [
    "## Remove correlations with padj < alpha"
   ]
  },
  {
   "cell_type": "code",
   "execution_count": null,
   "metadata": {},
   "outputs": [],
   "source": [
    "#install.packages(\"reshape\")\n",
    "#library(reshape)\n",
    "install.packages(\"reshape2\")\n",
    "library(reshape2)"
   ]
  },
  {
   "cell_type": "code",
   "execution_count": null,
   "metadata": {},
   "outputs": [],
   "source": [
    "hold_r <- melt(cor_r) # putting all values in one column\n",
    "hold_p <- melt(cor_p)\n",
    "hold_p$padj <- p.adjust(hold_p$value, method = padj_meth) # adjust pvals for multiple hypothesis tests\n",
    "\n",
    "hold_r_sig <- hold_r[hold_p$padj < p_thresh,]\n",
    "hold_p_sig <- hold_p[hold_p$padj < p_thresh,]\n",
    "\n",
    "# new matrix with only significant correlations (insignificant correlations are set to 0)\n",
    "corr_r_sig <- dcast(hold_r_sig, Var1~Var2, fill = 0)\n",
    "row.names(corr_r_sig) <- corr_r_sig$Var1 # re-assign row names as feature names then remove that column\n",
    "corr_r_sig <- corr_r_sig[,-1]"
   ]
  },
  {
   "cell_type": "markdown",
   "metadata": {},
   "source": [
    "## Plot heatmap again"
   ]
  },
  {
   "cell_type": "code",
   "execution_count": null,
   "metadata": {
    "tags": []
   },
   "outputs": [],
   "source": [
    "map <- d3heatmap(t(corr_r_sig), distfun=function(x) dist(x, method=\"canberra\"), \n",
    "                 hclustfun=function(x) hclust(x, method=\"ward.D\"),\n",
    "                 col = colorRampPalette(rev(brewer.pal(n = 7, name = \"RdBu\")))(100))\n",
    "saveWidget(map, \"corr_coef_sig_peptidemz_family_BH.html\")"
   ]
  },
  {
   "cell_type": "code",
   "execution_count": null,
   "metadata": {},
   "outputs": [],
   "source": [
    "pheatmap(t(corr_r_sig),  clustering_method=\"ward.D\", clustering_distance_cols=\"canberra\",\n",
    "         show_colnames = TRUE,show_rownames = TRUE, cluster_rows = TRUE, cluster_cols = TRUE, fontsize = 1,color = colorRampPalette((brewer.pal(n = 7, name =\n",
    "  \"RdBu\")))(100), \n",
    "         filename = \"corr_coef_sig_peptidemz_family_BH.pdf\")"
   ]
  },
  {
   "cell_type": "markdown",
   "metadata": {},
   "source": [
    "## Save tables"
   ]
  },
  {
   "cell_type": "code",
   "execution_count": null,
   "metadata": {},
   "outputs": [],
   "source": [
    "colnames(hold_r)[3] <- \"corr_coef\" # fix column names\n",
    "colnames(hold_p)[3] <- \"pval\"\n",
    "to_save <- cbind(hold_r, hold_p[,3:4]) # join coefs and pvals\n",
    "write.csv(to_save, \"corr_coef_all_peptidemz_family_BH.csv\", row.names = FALSE) # save table\n",
    "\n",
    "# save only correlations with significant pval\n",
    "write.csv(subset(to_save, to_save$pval < p_thresh), \"corr_coef_sig_peptidemz_family_BH.csv\", row.names = FALSE) "
   ]
  },
  {
   "cell_type": "code",
   "execution_count": null,
   "metadata": {},
   "outputs": [],
   "source": [
    "hist(-log10(to_save$pval),breaks=100)"
   ]
  },
  {
   "cell_type": "code",
   "execution_count": null,
   "metadata": {},
   "outputs": [],
   "source": [
    "hist(to_save$corr_coef,breaks=100)\n",
    "dev.copy(png,'histogram_sig_peptidemz_family_BH.png')\n",
    "dev.off()"
   ]
  },
  {
   "cell_type": "code",
   "execution_count": null,
   "metadata": {},
   "outputs": [],
   "source": [
    "hist(to_save$corr_coef,-1:1, breaks=100)"
   ]
  },
  {
   "cell_type": "code",
   "execution_count": null,
   "metadata": {},
   "outputs": [],
   "source": [
    "h_1 <- hist(to_save$corr_coef,-1:1, breaks=100)"
   ]
  },
  {
   "cell_type": "code",
   "execution_count": null,
   "metadata": {},
   "outputs": [],
   "source": [
    "h_1$breaks"
   ]
  },
  {
   "cell_type": "code",
   "execution_count": null,
   "metadata": {},
   "outputs": [],
   "source": [
    "h_1$counts"
   ]
  },
  {
   "cell_type": "markdown",
   "metadata": {},
   "source": []
  }
 ],
 "metadata": {
  "kernelspec": {
   "display_name": "R",
   "language": "R",
   "name": "ir"
  },
  "language_info": {
   "codemirror_mode": "r",
   "file_extension": ".r",
   "mimetype": "text/x-r-source",
   "name": "R",
   "pygments_lexer": "r",
   "version": "4.2.1"
  }
 },
 "nbformat": 4,
 "nbformat_minor": 4
}
