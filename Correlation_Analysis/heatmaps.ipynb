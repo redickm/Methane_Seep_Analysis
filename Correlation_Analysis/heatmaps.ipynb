{
 "cells": [
  {
   "cell_type": "code",
   "execution_count": 1,
   "id": "a82d9a4a-578e-4374-8989-f8c26f25efb0",
   "metadata": {},
   "outputs": [
    {
     "name": "stderr",
     "output_type": "stream",
     "text": [
      "\n",
      "======================\n",
      "Welcome to d3heatmap version 0.9.0\n",
      "\n",
      "Type citation('d3heatmap') for how to cite the package.\n",
      "Type ?d3heatmap for the main documentation.\n",
      "\n",
      "The github page is: https://github.com/talgalili/d3heatmap/\n",
      "Please submit your suggestions and bug-reports at: https://github.com/talgalili/d3heatmap/issues\n",
      "You may ask questions at stackoverflow, use the r and d3heatmap tags: \n",
      "\t https://stackoverflow.com/questions/tagged/d3heatmap\n",
      "======================\n",
      "\n",
      "\n",
      "\n",
      "Attaching package: ‘d3heatmap’\n",
      "\n",
      "\n",
      "The following objects are masked from ‘package:base’:\n",
      "\n",
      "    print, save\n",
      "\n",
      "\n",
      "\n",
      "Attaching package: ‘Hmisc’\n",
      "\n",
      "\n",
      "The following objects are masked from ‘package:base’:\n",
      "\n",
      "    format.pval, units\n",
      "\n",
      "\n"
     ]
    }
   ],
   "source": [
    "library(d3heatmap)\n",
    "library(Hmisc)\n",
    "library(htmlwidgets)\n",
    "library(pheatmap)\n",
    "library(reshape2)\n",
    "library(RColorBrewer)\n",
    "data <- \"peakareas_peptidesigonly_mz_BH_log10.csv\"\n",
    "chem <- read.csv(data, row.names = 1)\n",
    "#d3heatmap(chem, scale = \"column\")\n",
    "map <- d3heatmap(chem, distfun=function(x) dist(x, method=\"canberra\"), dendrogram = \"row\",\n",
    "                 hclustfun=function(x) hclust(x, method=\"ward.D\"),\n",
    "                 col = colorRampPalette((brewer.pal(n = 7, name = \"YlOrRd\")))(100))\n",
    "saveWidget(map, \"heatmap_sigpeptidesBH_mz_core_log10.html\")"
   ]
  },
  {
   "cell_type": "code",
   "execution_count": 4,
   "id": "fe1486b8-127c-4743-a31f-5137fda7e1a1",
   "metadata": {},
   "outputs": [],
   "source": [
    "pheatmap(chem,  clustering_method=\"ward.D\", clustering_distance_cols=\"canberra\",\n",
    "         show_colnames = TRUE,show_rownames = FALSE, cluster_rows = TRUE, cluster_cols = FALSE, color = colorRampPalette((brewer.pal(n = 7, name =\n",
    "  \"YlOrRd\")))(100), fontsize = 8, \n",
    "         filename = \"heatmap_sigpeptidesBH_mz_core_log10.pdf\")"
   ]
  },
  {
   "cell_type": "code",
   "execution_count": null,
   "id": "2b930c63-55fa-4a7e-a8fc-8578e504df0c",
   "metadata": {},
   "outputs": [],
   "source": []
  }
 ],
 "metadata": {
  "kernelspec": {
   "display_name": "R",
   "language": "R",
   "name": "ir"
  },
  "language_info": {
   "codemirror_mode": "r",
   "file_extension": ".r",
   "mimetype": "text/x-r-source",
   "name": "R",
   "pygments_lexer": "r",
   "version": "4.2.1"
  }
 },
 "nbformat": 4,
 "nbformat_minor": 5
}
